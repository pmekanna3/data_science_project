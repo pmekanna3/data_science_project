{
 "cells": [
  {
   "cell_type": "markdown",
   "metadata": {
    "colab_type": "text",
    "id": "ehXE-JUeLtAx"
   },
   "source": [
    "# Data Science Challenge"
   ]
  },
  {
   "cell_type": "code",
   "execution_count": 2,
   "metadata": {},
   "outputs": [],
   "source": [
    "# If you'd like to install packages that aren't installed by default, uncomment the last two lines of this cell and replace <package list> with a list of your packages.\n",
    "# This will ensure your notebook has all the dependencies and works everywhere\n",
    "\n",
    "#import sys\n",
    "#!{sys.executable} -m pip install <package list>"
   ]
  },
  {
   "cell_type": "code",
   "execution_count": 3,
   "metadata": {
    "colab": {},
    "colab_type": "code",
    "id": "9RDOj8LNLtAy"
   },
   "outputs": [],
   "source": [
    "#Libraries\n",
    "import pandas as pd\n",
    "pd.set_option(\"display.max_columns\", 101)"
   ]
  },
  {
   "cell_type": "markdown",
   "metadata": {
    "colab_type": "text",
    "id": "Q5UNCkUfLtA0"
   },
   "source": [
    "## Data Description"
   ]
  },
  {
   "cell_type": "markdown",
   "metadata": {
    "colab_type": "text",
    "id": "WrbEkfXbLtA1"
   },
   "source": [
    "Column | Description\n",
    ":---|:---\n",
    "`id` | Unique Identifier\n",
    "`brand` | The brand name of the product\n",
    "`capacity` | The volume of each container (lt/ml)\n",
    "`city`| The name of the city for each shop \n",
    "`container`| The type (nature) of the container.\n",
    "`date`| Date of sale\n",
    "`lat`| The latitude of the shop\n",
    "`long`| The longitude of the shop\n",
    "`pop` | Population of the city (assumed constant)\n",
    "`shop` | the shop id\n",
    "`price`| The average monthly price of the corresponding container (in US `$$`)\n",
    "`quantity` | The number of containers sold in a month (target variable)"
   ]
  },
  {
   "cell_type": "markdown",
   "metadata": {
    "colab_type": "text",
    "id": "0iYcmieZLtA1"
   },
   "source": [
    "## Data Wrangling & Visualization"
   ]
  },
  {
   "cell_type": "code",
   "execution_count": 4,
   "metadata": {
    "colab": {},
    "colab_type": "code",
    "id": "8o9m9lZaLtA2"
   },
   "outputs": [],
   "source": [
    "data = pd.read_csv('train.csv', index_col=0)"
   ]
  },
  {
   "cell_type": "code",
   "execution_count": 5,
   "metadata": {
    "colab": {},
    "colab_type": "code",
    "id": "pSwxhbvHLtA4",
    "outputId": "678c97db-ed27-4939-baad-b5bae468bc7f"
   },
   "outputs": [
    {
     "data": {
      "text/html": [
       "<div>\n",
       "<style scoped>\n",
       "    .dataframe tbody tr th:only-of-type {\n",
       "        vertical-align: middle;\n",
       "    }\n",
       "\n",
       "    .dataframe tbody tr th {\n",
       "        vertical-align: top;\n",
       "    }\n",
       "\n",
       "    .dataframe thead th {\n",
       "        text-align: right;\n",
       "    }\n",
       "</style>\n",
       "<table border=\"1\" class=\"dataframe\">\n",
       "  <thead>\n",
       "    <tr style=\"text-align: right;\">\n",
       "      <th></th>\n",
       "      <th>date</th>\n",
       "      <th>city</th>\n",
       "      <th>lat</th>\n",
       "      <th>long</th>\n",
       "      <th>pop</th>\n",
       "      <th>shop</th>\n",
       "      <th>brand</th>\n",
       "      <th>container</th>\n",
       "      <th>capacity</th>\n",
       "      <th>price</th>\n",
       "      <th>quantity</th>\n",
       "    </tr>\n",
       "    <tr>\n",
       "      <th>id</th>\n",
       "      <th></th>\n",
       "      <th></th>\n",
       "      <th></th>\n",
       "      <th></th>\n",
       "      <th></th>\n",
       "      <th></th>\n",
       "      <th></th>\n",
       "      <th></th>\n",
       "      <th></th>\n",
       "      <th></th>\n",
       "      <th></th>\n",
       "    </tr>\n",
       "  </thead>\n",
       "  <tbody>\n",
       "    <tr>\n",
       "      <th>0.0</th>\n",
       "      <td>31/01/12</td>\n",
       "      <td>Athens</td>\n",
       "      <td>37.97945</td>\n",
       "      <td>23.71622</td>\n",
       "      <td>672130.0</td>\n",
       "      <td>shop_1</td>\n",
       "      <td>kinder-cola</td>\n",
       "      <td>glass</td>\n",
       "      <td>500ml</td>\n",
       "      <td>0.96</td>\n",
       "      <td>13280.0</td>\n",
       "    </tr>\n",
       "    <tr>\n",
       "      <th>1.0</th>\n",
       "      <td>31/01/12</td>\n",
       "      <td>Athens</td>\n",
       "      <td>37.97945</td>\n",
       "      <td>23.71622</td>\n",
       "      <td>672130.0</td>\n",
       "      <td>shop_1</td>\n",
       "      <td>kinder-cola</td>\n",
       "      <td>plastic</td>\n",
       "      <td>1.5lt</td>\n",
       "      <td>2.86</td>\n",
       "      <td>6727.0</td>\n",
       "    </tr>\n",
       "    <tr>\n",
       "      <th>2.0</th>\n",
       "      <td>31/01/12</td>\n",
       "      <td>Athens</td>\n",
       "      <td>37.97945</td>\n",
       "      <td>23.71622</td>\n",
       "      <td>672130.0</td>\n",
       "      <td>shop_1</td>\n",
       "      <td>kinder-cola</td>\n",
       "      <td>can</td>\n",
       "      <td>330ml</td>\n",
       "      <td>0.87</td>\n",
       "      <td>9848.0</td>\n",
       "    </tr>\n",
       "    <tr>\n",
       "      <th>3.0</th>\n",
       "      <td>31/01/12</td>\n",
       "      <td>Athens</td>\n",
       "      <td>37.97945</td>\n",
       "      <td>23.71622</td>\n",
       "      <td>672130.0</td>\n",
       "      <td>shop_1</td>\n",
       "      <td>adult-cola</td>\n",
       "      <td>glass</td>\n",
       "      <td>500ml</td>\n",
       "      <td>1.00</td>\n",
       "      <td>20050.0</td>\n",
       "    </tr>\n",
       "    <tr>\n",
       "      <th>4.0</th>\n",
       "      <td>31/01/12</td>\n",
       "      <td>Athens</td>\n",
       "      <td>37.97945</td>\n",
       "      <td>23.71622</td>\n",
       "      <td>672130.0</td>\n",
       "      <td>shop_1</td>\n",
       "      <td>adult-cola</td>\n",
       "      <td>can</td>\n",
       "      <td>330ml</td>\n",
       "      <td>0.39</td>\n",
       "      <td>25696.0</td>\n",
       "    </tr>\n",
       "  </tbody>\n",
       "</table>\n",
       "</div>"
      ],
      "text/plain": [
       "         date    city       lat      long       pop    shop        brand  \\\n",
       "id                                                                         \n",
       "0.0  31/01/12  Athens  37.97945  23.71622  672130.0  shop_1  kinder-cola   \n",
       "1.0  31/01/12  Athens  37.97945  23.71622  672130.0  shop_1  kinder-cola   \n",
       "2.0  31/01/12  Athens  37.97945  23.71622  672130.0  shop_1  kinder-cola   \n",
       "3.0  31/01/12  Athens  37.97945  23.71622  672130.0  shop_1   adult-cola   \n",
       "4.0  31/01/12  Athens  37.97945  23.71622  672130.0  shop_1   adult-cola   \n",
       "\n",
       "    container capacity  price  quantity  \n",
       "id                                       \n",
       "0.0     glass    500ml   0.96   13280.0  \n",
       "1.0   plastic    1.5lt   2.86    6727.0  \n",
       "2.0       can    330ml   0.87    9848.0  \n",
       "3.0     glass    500ml   1.00   20050.0  \n",
       "4.0       can    330ml   0.39   25696.0  "
      ]
     },
     "execution_count": 5,
     "metadata": {},
     "output_type": "execute_result"
    }
   ],
   "source": [
    "data.head()"
   ]
  },
  {
   "cell_type": "code",
   "execution_count": 6,
   "metadata": {},
   "outputs": [
    {
     "data": {
      "text/plain": [
       "Index(['date', 'city', 'lat', 'long', 'pop', 'shop', 'brand', 'container',\n",
       "       'capacity', 'price', 'quantity'],\n",
       "      dtype='object')"
      ]
     },
     "execution_count": 6,
     "metadata": {},
     "output_type": "execute_result"
    }
   ],
   "source": [
    "#Explore columns\n",
    "data.columns"
   ]
  },
  {
   "cell_type": "code",
   "execution_count": 7,
   "metadata": {},
   "outputs": [
    {
     "data": {
      "text/html": [
       "<div>\n",
       "<style scoped>\n",
       "    .dataframe tbody tr th:only-of-type {\n",
       "        vertical-align: middle;\n",
       "    }\n",
       "\n",
       "    .dataframe tbody tr th {\n",
       "        vertical-align: top;\n",
       "    }\n",
       "\n",
       "    .dataframe thead th {\n",
       "        text-align: right;\n",
       "    }\n",
       "</style>\n",
       "<table border=\"1\" class=\"dataframe\">\n",
       "  <thead>\n",
       "    <tr style=\"text-align: right;\">\n",
       "      <th></th>\n",
       "      <th>lat</th>\n",
       "      <th>long</th>\n",
       "      <th>pop</th>\n",
       "      <th>price</th>\n",
       "      <th>quantity</th>\n",
       "    </tr>\n",
       "  </thead>\n",
       "  <tbody>\n",
       "    <tr>\n",
       "      <th>count</th>\n",
       "      <td>6429.000000</td>\n",
       "      <td>6434.000000</td>\n",
       "      <td>6480.000000</td>\n",
       "      <td>6480.000000</td>\n",
       "      <td>6480.000000</td>\n",
       "    </tr>\n",
       "    <tr>\n",
       "      <th>mean</th>\n",
       "      <td>38.301238</td>\n",
       "      <td>23.270246</td>\n",
       "      <td>355141.416667</td>\n",
       "      <td>1.188981</td>\n",
       "      <td>29431.855093</td>\n",
       "    </tr>\n",
       "    <tr>\n",
       "      <th>std</th>\n",
       "      <td>1.649771</td>\n",
       "      <td>1.086960</td>\n",
       "      <td>232828.796289</td>\n",
       "      <td>0.814567</td>\n",
       "      <td>17901.328301</td>\n",
       "    </tr>\n",
       "    <tr>\n",
       "      <th>min</th>\n",
       "      <td>35.327870</td>\n",
       "      <td>21.734440</td>\n",
       "      <td>134219.000000</td>\n",
       "      <td>0.110000</td>\n",
       "      <td>2953.000000</td>\n",
       "    </tr>\n",
       "    <tr>\n",
       "      <th>25%</th>\n",
       "      <td>37.962450</td>\n",
       "      <td>22.417610</td>\n",
       "      <td>141439.750000</td>\n",
       "      <td>0.610000</td>\n",
       "      <td>16441.750000</td>\n",
       "    </tr>\n",
       "    <tr>\n",
       "      <th>50%</th>\n",
       "      <td>38.244440</td>\n",
       "      <td>22.930860</td>\n",
       "      <td>257501.500000</td>\n",
       "      <td>0.920000</td>\n",
       "      <td>25184.000000</td>\n",
       "    </tr>\n",
       "    <tr>\n",
       "      <th>75%</th>\n",
       "      <td>39.636890</td>\n",
       "      <td>23.716220</td>\n",
       "      <td>665871.000000</td>\n",
       "      <td>1.500000</td>\n",
       "      <td>37866.000000</td>\n",
       "    </tr>\n",
       "    <tr>\n",
       "      <th>max</th>\n",
       "      <td>40.643610</td>\n",
       "      <td>25.143410</td>\n",
       "      <td>672130.000000</td>\n",
       "      <td>4.540000</td>\n",
       "      <td>145287.000000</td>\n",
       "    </tr>\n",
       "  </tbody>\n",
       "</table>\n",
       "</div>"
      ],
      "text/plain": [
       "               lat         long            pop        price       quantity\n",
       "count  6429.000000  6434.000000    6480.000000  6480.000000    6480.000000\n",
       "mean     38.301238    23.270246  355141.416667     1.188981   29431.855093\n",
       "std       1.649771     1.086960  232828.796289     0.814567   17901.328301\n",
       "min      35.327870    21.734440  134219.000000     0.110000    2953.000000\n",
       "25%      37.962450    22.417610  141439.750000     0.610000   16441.750000\n",
       "50%      38.244440    22.930860  257501.500000     0.920000   25184.000000\n",
       "75%      39.636890    23.716220  665871.000000     1.500000   37866.000000\n",
       "max      40.643610    25.143410  672130.000000     4.540000  145287.000000"
      ]
     },
     "execution_count": 7,
     "metadata": {},
     "output_type": "execute_result"
    }
   ],
   "source": [
    "#Description\n",
    "data.describe()"
   ]
  },
  {
   "cell_type": "code",
   "execution_count": null,
   "metadata": {
    "colab": {},
    "colab_type": "code",
    "id": "8dmCBGuuLtA9",
    "outputId": "733fa378-8a93-482b-9049-166ec3e9fae1"
   },
   "outputs": [],
   "source": []
  },
  {
   "cell_type": "code",
   "execution_count": null,
   "metadata": {
    "colab": {},
    "colab_type": "code",
    "id": "TuwQ_o9eLtA_",
    "outputId": "925ce68c-9ecc-4a99-ee7b-ece18fd3664c"
   },
   "outputs": [],
   "source": []
  },
  {
   "cell_type": "code",
   "execution_count": null,
   "metadata": {
    "colab": {},
    "colab_type": "code",
    "id": "EyckXeuuLtBB",
    "outputId": "780926dd-4134-4c4b-b78d-6d2354d1dc13"
   },
   "outputs": [],
   "source": []
  },
  {
   "cell_type": "code",
   "execution_count": null,
   "metadata": {
    "colab": {},
    "colab_type": "code",
    "id": "BjhQ9ogSLtBG",
    "outputId": "e47caa93-abee-4fd6-d78c-26e076865a74"
   },
   "outputs": [],
   "source": []
  },
  {
   "cell_type": "markdown",
   "metadata": {},
   "source": [
    "## Visualization, Modeling, Machine Learning\n",
    "\n",
    "Can you predict future demand and identify how different features influence that? Please explain your findings effectively to technical and non-technical audiences using comments and visualizations, if appropriate.\n",
    "- **Build an optimized model that effectively solves the business problem.**\n",
    "- **The model would be evaluated on the basis of mean absolute percent error.**\n",
    "- **Read the Test.csv file and prepare features for testing.**"
   ]
  },
  {
   "cell_type": "code",
   "execution_count": 10,
   "metadata": {},
   "outputs": [
    {
     "data": {
      "text/html": [
       "<div>\n",
       "<style scoped>\n",
       "    .dataframe tbody tr th:only-of-type {\n",
       "        vertical-align: middle;\n",
       "    }\n",
       "\n",
       "    .dataframe tbody tr th {\n",
       "        vertical-align: top;\n",
       "    }\n",
       "\n",
       "    .dataframe thead th {\n",
       "        text-align: right;\n",
       "    }\n",
       "</style>\n",
       "<table border=\"1\" class=\"dataframe\">\n",
       "  <thead>\n",
       "    <tr style=\"text-align: right;\">\n",
       "      <th></th>\n",
       "      <th>id</th>\n",
       "      <th>date</th>\n",
       "      <th>city</th>\n",
       "      <th>lat</th>\n",
       "      <th>long</th>\n",
       "      <th>pop</th>\n",
       "      <th>shop</th>\n",
       "      <th>brand</th>\n",
       "      <th>container</th>\n",
       "      <th>capacity</th>\n",
       "      <th>price</th>\n",
       "    </tr>\n",
       "  </thead>\n",
       "  <tbody>\n",
       "    <tr>\n",
       "      <th>0</th>\n",
       "      <td>6480</td>\n",
       "      <td>31/01/18</td>\n",
       "      <td>Athens</td>\n",
       "      <td>37.97945</td>\n",
       "      <td>23.71622</td>\n",
       "      <td>664046</td>\n",
       "      <td>shop_1</td>\n",
       "      <td>kinder-cola</td>\n",
       "      <td>plastic</td>\n",
       "      <td>1.5lt</td>\n",
       "      <td>3.10</td>\n",
       "    </tr>\n",
       "    <tr>\n",
       "      <th>1</th>\n",
       "      <td>6481</td>\n",
       "      <td>31/01/18</td>\n",
       "      <td>Athens</td>\n",
       "      <td>37.97945</td>\n",
       "      <td>23.71622</td>\n",
       "      <td>664046</td>\n",
       "      <td>shop_1</td>\n",
       "      <td>kinder-cola</td>\n",
       "      <td>can</td>\n",
       "      <td>330ml</td>\n",
       "      <td>0.85</td>\n",
       "    </tr>\n",
       "    <tr>\n",
       "      <th>2</th>\n",
       "      <td>6482</td>\n",
       "      <td>31/01/18</td>\n",
       "      <td>Athens</td>\n",
       "      <td>37.97945</td>\n",
       "      <td>23.71622</td>\n",
       "      <td>664046</td>\n",
       "      <td>shop_1</td>\n",
       "      <td>adult-cola</td>\n",
       "      <td>glass</td>\n",
       "      <td>500ml</td>\n",
       "      <td>0.83</td>\n",
       "    </tr>\n",
       "    <tr>\n",
       "      <th>3</th>\n",
       "      <td>6483</td>\n",
       "      <td>31/01/18</td>\n",
       "      <td>Athens</td>\n",
       "      <td>37.97945</td>\n",
       "      <td>23.71622</td>\n",
       "      <td>664046</td>\n",
       "      <td>shop_1</td>\n",
       "      <td>orange-power</td>\n",
       "      <td>glass</td>\n",
       "      <td>500ml</td>\n",
       "      <td>0.54</td>\n",
       "    </tr>\n",
       "    <tr>\n",
       "      <th>4</th>\n",
       "      <td>6484</td>\n",
       "      <td>31/01/18</td>\n",
       "      <td>Athens</td>\n",
       "      <td>37.97945</td>\n",
       "      <td>23.71622</td>\n",
       "      <td>664046</td>\n",
       "      <td>shop_1</td>\n",
       "      <td>orange-power</td>\n",
       "      <td>plastic</td>\n",
       "      <td>1.5lt</td>\n",
       "      <td>0.83</td>\n",
       "    </tr>\n",
       "  </tbody>\n",
       "</table>\n",
       "</div>"
      ],
      "text/plain": [
       "     id      date    city       lat      long     pop    shop         brand  \\\n",
       "0  6480  31/01/18  Athens  37.97945  23.71622  664046  shop_1   kinder-cola   \n",
       "1  6481  31/01/18  Athens  37.97945  23.71622  664046  shop_1   kinder-cola   \n",
       "2  6482  31/01/18  Athens  37.97945  23.71622  664046  shop_1    adult-cola   \n",
       "3  6483  31/01/18  Athens  37.97945  23.71622  664046  shop_1  orange-power   \n",
       "4  6484  31/01/18  Athens  37.97945  23.71622  664046  shop_1  orange-power   \n",
       "\n",
       "  container capacity  price  \n",
       "0   plastic    1.5lt   3.10  \n",
       "1       can    330ml   0.85  \n",
       "2     glass    500ml   0.83  \n",
       "3     glass    500ml   0.54  \n",
       "4   plastic    1.5lt   0.83  "
      ]
     },
     "execution_count": 10,
     "metadata": {},
     "output_type": "execute_result"
    }
   ],
   "source": [
    "#Loading Test data\n",
    "test_data=pd.read_csv('test.csv')\n",
    "test_data.head()"
   ]
  },
  {
   "cell_type": "code",
   "execution_count": null,
   "metadata": {
    "colab": {},
    "colab_type": "code",
    "id": "JTa2DhJFLtBU",
    "outputId": "df7c8845-33f7-4f6b-f693-933cf53cce3d"
   },
   "outputs": [],
   "source": []
  },
  {
   "cell_type": "code",
   "execution_count": null,
   "metadata": {
    "colab": {},
    "colab_type": "code",
    "id": "KSkM6oW4LtBY",
    "outputId": "05351338-fa01-49a1-e2d9-7ede4141c6c7"
   },
   "outputs": [],
   "source": []
  },
  {
   "cell_type": "code",
   "execution_count": null,
   "metadata": {},
   "outputs": [],
   "source": []
  },
  {
   "cell_type": "code",
   "execution_count": null,
   "metadata": {},
   "outputs": [],
   "source": []
  },
  {
   "cell_type": "code",
   "execution_count": null,
   "metadata": {},
   "outputs": [],
   "source": []
  },
  {
   "cell_type": "code",
   "execution_count": null,
   "metadata": {},
   "outputs": [],
   "source": []
  },
  {
   "cell_type": "markdown",
   "metadata": {},
   "source": [
    "\n",
    "\n",
    "**The management wants to know what are the most important features for your model.  Can you tell them?**\n",
    "\n",
    "> #### Task:\n",
    "- **Visualize the top 20 features and their feature importance.**\n"
   ]
  },
  {
   "cell_type": "code",
   "execution_count": null,
   "metadata": {},
   "outputs": [],
   "source": []
  },
  {
   "cell_type": "markdown",
   "metadata": {},
   "source": [
    "> #### Task:\n",
    "- **Submit the predictions on the test dataset using your optimized model.** <br/>\n",
    "    For each record in the test set (`Test.csv`), you must predict the value of the `quantity` variable. You should submit a CSV file with a header row and one row per test entry. \n",
    "The file (`submissions.csv`) should have exactly 2 columns:\n",
    "   - **id**\n",
    "   - **quantity**"
   ]
  },
  {
   "cell_type": "code",
   "execution_count": null,
   "metadata": {},
   "outputs": [],
   "source": []
  },
  {
   "cell_type": "code",
   "execution_count": null,
   "metadata": {},
   "outputs": [],
   "source": [
    "#Submission\n",
    "submission_df.to_csv('submissions.csv',index=False)"
   ]
  },
  {
   "cell_type": "markdown",
   "metadata": {
    "colab_type": "text",
    "id": "fXfMHuwjLtCr"
   },
   "source": [
    "---"
   ]
  }
 ],
 "metadata": {
  "colab": {
   "collapsed_sections": [
    "ooxF_OmxLtBe",
    "THPPJIVsLtBe",
    "NAPz72ncLtBg",
    "tYWki2bdLtBs",
    "p73dYf9pLtCi",
    "ghB_dg1TLtCj",
    "Kn2BRa_wLtCj",
    "LYDZqKnNLtCk",
    "xMWqB67BLtCl"
   ],
   "name": "SolutionPredictDemand.ipynb",
   "provenance": [],
   "version": "0.3.2"
  },
  "kernelspec": {
   "display_name": "Python 3",
   "language": "python",
   "name": "python3"
  },
  "language_info": {
   "codemirror_mode": {
    "name": "ipython",
    "version": 3
   },
   "file_extension": ".py",
   "mimetype": "text/x-python",
   "name": "python",
   "nbconvert_exporter": "python",
   "pygments_lexer": "ipython3",
   "version": "3.7.3"
  },
  "toc": {
   "base_numbering": 1,
   "nav_menu": {},
   "number_sections": true,
   "sideBar": true,
   "skip_h1_title": false,
   "title_cell": "Table of Contents",
   "title_sidebar": "Contents",
   "toc_cell": false,
   "toc_position": {},
   "toc_section_display": true,
   "toc_window_display": false
  }
 },
 "nbformat": 4,
 "nbformat_minor": 1
}
